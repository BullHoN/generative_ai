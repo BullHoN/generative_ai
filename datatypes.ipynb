{
 "cells": [
  {
   "cell_type": "code",
   "execution_count": 2,
   "id": "450751ad-9064-49e8-bf08-441d12c24ae8",
   "metadata": {},
   "outputs": [
    {
     "data": {
      "text/plain": [
       "bool"
      ]
     },
     "execution_count": 2,
     "metadata": {},
     "output_type": "execute_result"
    }
   ],
   "source": [
    "type(True)"
   ]
  },
  {
   "cell_type": "code",
   "execution_count": 3,
   "id": "b8ae712d-fb17-48c1-a09d-fe092c90ff91",
   "metadata": {},
   "outputs": [],
   "source": [
    "my_list = [1,2,3,\"hello\"]"
   ]
  },
  {
   "cell_type": "code",
   "execution_count": 15,
   "id": "01236386-4ca2-4110-bdc7-c2d3375c0829",
   "metadata": {},
   "outputs": [
    {
     "data": {
      "text/plain": [
       "[1, 2, 3, 'hello']"
      ]
     },
     "execution_count": 15,
     "metadata": {},
     "output_type": "execute_result"
    }
   ],
   "source": [
    "my_list"
   ]
  },
  {
   "cell_type": "code",
   "execution_count": 19,
   "id": "6b857415-cec7-43cc-92a9-95824d8bea02",
   "metadata": {},
   "outputs": [],
   "source": [
    "my_list.append('world')"
   ]
  },
  {
   "cell_type": "code",
   "execution_count": 23,
   "id": "75b1aefc-2398-451a-adea-37ac0d6061fc",
   "metadata": {},
   "outputs": [
    {
     "data": {
      "text/plain": [
       "[1, 2, 3, 'hello', 'world', 'world']"
      ]
     },
     "execution_count": 23,
     "metadata": {},
     "output_type": "execute_result"
    }
   ],
   "source": [
    "my_list"
   ]
  },
  {
   "cell_type": "code",
   "execution_count": 33,
   "id": "3d61020e-2a53-4e16-a3f9-c1400255315a",
   "metadata": {},
   "outputs": [
    {
     "data": {
      "text/plain": [
       "[2, 3]"
      ]
     },
     "execution_count": 33,
     "metadata": {},
     "output_type": "execute_result"
    }
   ],
   "source": [
    "my_list[1:3]"
   ]
  },
  {
   "cell_type": "code",
   "execution_count": 43,
   "id": "98c77f59-c4e9-4cec-9344-77e101e10560",
   "metadata": {},
   "outputs": [],
   "source": [
    "## Set"
   ]
  },
  {
   "cell_type": "code",
   "execution_count": 47,
   "id": "f1801205-93dd-4ffa-ac67-a7d0aec17f7f",
   "metadata": {},
   "outputs": [],
   "source": [
    "my_set = {1,1,2,2,3,4}"
   ]
  },
  {
   "cell_type": "code",
   "execution_count": 53,
   "id": "70c075dd-a888-4730-b613-8171ae5360f3",
   "metadata": {},
   "outputs": [
    {
     "data": {
      "text/plain": [
       "{1, 2, 3, 4}"
      ]
     },
     "execution_count": 53,
     "metadata": {},
     "output_type": "execute_result"
    }
   ],
   "source": [
    "my_set"
   ]
  },
  {
   "cell_type": "code",
   "execution_count": 57,
   "id": "d2fd0a10-b665-499a-8341-b7b0b4fa151a",
   "metadata": {},
   "outputs": [],
   "source": [
    "## Dicst\n",
    "my_dict = {\"key\":\"value\",\"key2\":\"value2\"}"
   ]
  },
  {
   "cell_type": "code",
   "execution_count": 59,
   "id": "9f9a4364-627d-4c17-9b75-01b359868c72",
   "metadata": {},
   "outputs": [
    {
     "name": "stdout",
     "output_type": "stream",
     "text": [
      "key\n",
      "key2\n"
     ]
    }
   ],
   "source": [
    "for x in my_dict:\n",
    "    print(x)"
   ]
  },
  {
   "cell_type": "code",
   "execution_count": null,
   "id": "6927057a-4dba-4822-9130-4d83bee8746f",
   "metadata": {},
   "outputs": [],
   "source": []
  }
 ],
 "metadata": {
  "kernelspec": {
   "display_name": "Python 3",
   "language": "python",
   "name": "python3"
  },
  "language_info": {
   "codemirror_mode": {
    "name": "ipython",
    "version": 3
   },
   "file_extension": ".py",
   "mimetype": "text/x-python",
   "name": "python",
   "nbconvert_exporter": "python",
   "pygments_lexer": "ipython3",
   "version": "3.11.10"
  }
 },
 "nbformat": 4,
 "nbformat_minor": 5
}
